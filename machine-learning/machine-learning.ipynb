{
 "cells": [
  {
   "cell_type": "code",
   "execution_count": 1,
   "metadata": {},
   "outputs": [],
   "source": [
    "import pandas as pd\n",
    "import numpy as np\n",
    "import holidays\n",
    "from datetime import datetime\n",
    "import os"
   ]
  },
  {
   "cell_type": "markdown",
   "metadata": {},
   "source": [
    "## Chosen features:\n",
    "- hour (since openweather only offer hourly prediction weather data, we only predict bikes data hourly)\n",
    "- is_holiday\n",
    "- is_weekend\n",
    "- station_id\n",
    "- capacity\n",
    "- temperature_celsius\n",
    "- relative_humidity_percent\n",
    "- barometric_pressure_hpa\n",
    "\n",
    "## Predictions:\n",
    "- num_bikes_available\n",
    "- num_docks_available"
   ]
  },
  {
   "cell_type": "code",
   "execution_count": 2,
   "metadata": {},
   "outputs": [],
   "source": [
    "# Load the dataset\n",
    "if not os.path.isfile('dataset.csv'):\n",
    "    data = pd.read_csv(\"final_merged_data.csv\")\n",
    "    df = pd.DataFrame()\n",
    "    df['station_id'] = data['station_id']\n",
    "    df['capacity'] = data['capacity']\n",
    "    df['temperature_celsius'] = (data['max_air_temperature_celsius'] + data['min_air_temperature_celsius']) / 2 + (data['air_temperature_std_deviation'] / np.sqrt(3))\n",
    "    df['relative_humidity_percent'] = (data['max_relative_humidity_percent'] + data['min_relative_humidity_percent']) / 2 + (data['relative_humidity_std_deviation'] / np.sqrt(3))\n",
    "    df['barometric_pressure_hpa'] = (data['max_barometric_pressure_hpa'] + data['min_barometric_pressure_hpa']) / 2 + (data['barometric_pressure_std_deviation'] / np.sqrt(3))\n",
    "    ireland_holidays = holidays.country_holidays('IE')\n",
    "    df['is_holiday'] = data['last_reported'].apply(lambda x: x in ireland_holidays)\n",
    "    df['is_weekend'] = data['last_reported'].apply(lambda x: datetime.strptime(x, '%Y-%m-%d %H:%M:%S').weekday() in [5, 6])\n",
    "    df['hour'] = data['hour']\n",
    "    df['available_bikes'] = data['num_bikes_available']\n",
    "    df['available_docks'] = data['num_docks_available']\n",
    "    df.to_csv('dataset.csv', index=False)\n",
    "df = pd.read_csv('dataset.csv')"
   ]
  },
  {
   "cell_type": "code",
   "execution_count": 3,
   "metadata": {},
   "outputs": [
    {
     "data": {
      "text/plain": [
       "Index(['station_id', 'capacity', 'temperature_celsius',\n",
       "       'relative_humidity_percent', 'barometric_pressure_hpa', 'is_holiday',\n",
       "       'is_weekend', 'hour', 'available_bikes', 'available_docks'],\n",
       "      dtype='object')"
      ]
     },
     "execution_count": 3,
     "metadata": {},
     "output_type": "execute_result"
    }
   ],
   "source": [
    "df.columns"
   ]
  },
  {
   "cell_type": "code",
   "execution_count": 4,
   "metadata": {},
   "outputs": [
    {
     "data": {
      "application/vnd.microsoft.datawrangler.viewer.v0+json": {
       "columns": [
        {
         "name": "index",
         "rawType": "int64",
         "type": "integer"
        },
        {
         "name": "station_id",
         "rawType": "int64",
         "type": "integer"
        },
        {
         "name": "capacity",
         "rawType": "int64",
         "type": "integer"
        },
        {
         "name": "temperature_celsius",
         "rawType": "float64",
         "type": "float"
        },
        {
         "name": "relative_humidity_percent",
         "rawType": "float64",
         "type": "float"
        },
        {
         "name": "barometric_pressure_hpa",
         "rawType": "float64",
         "type": "float"
        },
        {
         "name": "is_holiday",
         "rawType": "bool",
         "type": "boolean"
        },
        {
         "name": "is_weekend",
         "rawType": "bool",
         "type": "boolean"
        },
        {
         "name": "hour",
         "rawType": "int64",
         "type": "integer"
        },
        {
         "name": "available_bikes",
         "rawType": "int64",
         "type": "integer"
        },
        {
         "name": "available_docks",
         "rawType": "int64",
         "type": "integer"
        }
       ],
       "conversionMethod": "pd.DataFrame",
       "ref": "94288497-6ad2-45e9-a7d5-8f7435865c7b",
       "rows": [
        [
         "0",
         "10",
         "16",
         "13.974052558883258",
         "83.91396747644986",
         "1002.4579200723427",
         "False",
         "True",
         "0",
         "15",
         "1"
        ],
        [
         "1",
         "100",
         "25",
         "13.974052558883258",
         "83.91396747644986",
         "1002.4579200723427",
         "False",
         "True",
         "0",
         "17",
         "8"
        ],
        [
         "2",
         "109",
         "29",
         "13.974052558883258",
         "83.91396747644986",
         "1002.4579200723427",
         "False",
         "True",
         "0",
         "20",
         "9"
        ],
        [
         "3",
         "11",
         "30",
         "13.974052558883258",
         "83.91396747644986",
         "1002.4579200723427",
         "False",
         "True",
         "0",
         "1",
         "29"
        ],
        [
         "4",
         "114",
         "40",
         "13.974052558883258",
         "83.91396747644986",
         "1002.4579200723427",
         "False",
         "True",
         "0",
         "4",
         "36"
        ],
        [
         "5",
         "116",
         "30",
         "13.974052558883258",
         "83.91396747644986",
         "1002.4579200723427",
         "False",
         "True",
         "0",
         "2",
         "28"
        ],
        [
         "6",
         "13",
         "30",
         "13.974052558883258",
         "83.91396747644986",
         "1002.4579200723427",
         "False",
         "True",
         "0",
         "0",
         "30"
        ],
        [
         "7",
         "14",
         "30",
         "13.974052558883258",
         "83.91396747644986",
         "1002.4579200723427",
         "False",
         "True",
         "0",
         "21",
         "9"
        ],
        [
         "8",
         "15",
         "16",
         "13.974052558883258",
         "83.91396747644986",
         "1002.4579200723427",
         "False",
         "True",
         "0",
         "1",
         "15"
        ],
        [
         "9",
         "17",
         "20",
         "13.974052558883258",
         "83.91396747644986",
         "1002.4579200723427",
         "False",
         "True",
         "0",
         "3",
         "17"
        ],
        [
         "10",
         "18",
         "30",
         "13.974052558883258",
         "83.91396747644986",
         "1002.4579200723427",
         "False",
         "True",
         "0",
         "6",
         "24"
        ],
        [
         "11",
         "19",
         "30",
         "13.974052558883258",
         "83.91396747644986",
         "1002.4579200723427",
         "False",
         "True",
         "0",
         "4",
         "26"
        ],
        [
         "12",
         "2",
         "20",
         "13.974052558883258",
         "83.91396747644986",
         "1002.4579200723427",
         "False",
         "True",
         "0",
         "5",
         "15"
        ],
        [
         "13",
         "20",
         "30",
         "13.974052558883258",
         "83.91396747644986",
         "1002.4579200723427",
         "False",
         "True",
         "0",
         "0",
         "30"
        ],
        [
         "14",
         "22",
         "20",
         "13.974052558883258",
         "83.91396747644986",
         "1002.4579200723427",
         "False",
         "True",
         "0",
         "11",
         "8"
        ],
        [
         "15",
         "24",
         "20",
         "13.974052558883258",
         "83.91396747644986",
         "1002.4579200723427",
         "False",
         "True",
         "0",
         "13",
         "7"
        ],
        [
         "16",
         "28",
         "30",
         "13.974052558883258",
         "83.91396747644986",
         "1002.4579200723427",
         "False",
         "True",
         "0",
         "3",
         "27"
        ],
        [
         "17",
         "29",
         "29",
         "13.974052558883258",
         "83.91396747644986",
         "1002.4579200723427",
         "False",
         "True",
         "0",
         "25",
         "3"
        ],
        [
         "18",
         "3",
         "20",
         "13.974052558883258",
         "83.91396747644986",
         "1002.4579200723427",
         "False",
         "True",
         "0",
         "14",
         "6"
        ],
        [
         "19",
         "30",
         "20",
         "13.974052558883258",
         "83.91396747644986",
         "1002.4579200723427",
         "False",
         "True",
         "0",
         "0",
         "20"
        ],
        [
         "20",
         "31",
         "20",
         "13.974052558883258",
         "83.91396747644986",
         "1002.4579200723427",
         "False",
         "True",
         "0",
         "3",
         "17"
        ],
        [
         "21",
         "33",
         "23",
         "13.974052558883258",
         "83.91396747644986",
         "1002.4579200723427",
         "False",
         "True",
         "0",
         "23",
         "0"
        ],
        [
         "22",
         "34",
         "30",
         "13.974052558883258",
         "83.91396747644986",
         "1002.4579200723427",
         "False",
         "True",
         "0",
         "2",
         "28"
        ],
        [
         "23",
         "35",
         "30",
         "13.974052558883258",
         "83.91396747644986",
         "1002.4579200723427",
         "False",
         "True",
         "0",
         "17",
         "13"
        ],
        [
         "24",
         "36",
         "40",
         "13.974052558883258",
         "83.91396747644986",
         "1002.4579200723427",
         "False",
         "True",
         "0",
         "23",
         "17"
        ],
        [
         "25",
         "38",
         "40",
         "13.974052558883258",
         "83.91396747644986",
         "1002.4579200723427",
         "False",
         "True",
         "0",
         "29",
         "11"
        ],
        [
         "26",
         "39",
         "20",
         "13.974052558883258",
         "83.91396747644986",
         "1002.4579200723427",
         "False",
         "True",
         "0",
         "3",
         "17"
        ],
        [
         "27",
         "4",
         "20",
         "13.974052558883258",
         "83.91396747644986",
         "1002.4579200723427",
         "False",
         "True",
         "0",
         "11",
         "9"
        ],
        [
         "28",
         "40",
         "21",
         "13.974052558883258",
         "83.91396747644986",
         "1002.4579200723427",
         "False",
         "True",
         "0",
         "13",
         "8"
        ],
        [
         "29",
         "44",
         "30",
         "13.974052558883258",
         "83.91396747644986",
         "1002.4579200723427",
         "False",
         "True",
         "0",
         "6",
         "24"
        ],
        [
         "30",
         "45",
         "30",
         "13.974052558883258",
         "83.91396747644986",
         "1002.4579200723427",
         "False",
         "True",
         "0",
         "29",
         "1"
        ],
        [
         "31",
         "48",
         "40",
         "13.974052558883258",
         "83.91396747644986",
         "1002.4579200723427",
         "False",
         "True",
         "0",
         "13",
         "27"
        ],
        [
         "32",
         "49",
         "40",
         "13.974052558883258",
         "83.91396747644986",
         "1002.4579200723427",
         "False",
         "True",
         "0",
         "14",
         "26"
        ],
        [
         "33",
         "5",
         "40",
         "13.974052558883258",
         "83.91396747644986",
         "1002.4579200723427",
         "False",
         "True",
         "0",
         "3",
         "37"
        ],
        [
         "34",
         "50",
         "40",
         "13.974052558883258",
         "83.91396747644986",
         "1002.4579200723427",
         "False",
         "True",
         "0",
         "14",
         "26"
        ],
        [
         "35",
         "52",
         "32",
         "13.974052558883258",
         "83.91396747644986",
         "1002.4579200723427",
         "False",
         "True",
         "0",
         "27",
         "5"
        ],
        [
         "36",
         "53",
         "40",
         "13.974052558883258",
         "83.91396747644986",
         "1002.4579200723427",
         "False",
         "True",
         "0",
         "7",
         "33"
        ],
        [
         "37",
         "54",
         "33",
         "13.974052558883258",
         "83.91396747644986",
         "1002.4579200723427",
         "False",
         "True",
         "0",
         "12",
         "21"
        ],
        [
         "38",
         "55",
         "36",
         "13.974052558883258",
         "83.91396747644986",
         "1002.4579200723427",
         "False",
         "True",
         "0",
         "2",
         "34"
        ],
        [
         "39",
         "57",
         "23",
         "13.974052558883258",
         "83.91396747644986",
         "1002.4579200723427",
         "False",
         "True",
         "0",
         "2",
         "21"
        ],
        [
         "40",
         "58",
         "40",
         "13.974052558883258",
         "83.91396747644986",
         "1002.4579200723427",
         "False",
         "True",
         "0",
         "7",
         "33"
        ],
        [
         "41",
         "60",
         "30",
         "13.974052558883258",
         "83.91396747644986",
         "1002.4579200723427",
         "False",
         "True",
         "0",
         "2",
         "28"
        ],
        [
         "42",
         "61",
         "25",
         "13.974052558883258",
         "83.91396747644986",
         "1002.4579200723427",
         "False",
         "True",
         "0",
         "1",
         "24"
        ],
        [
         "43",
         "64",
         "40",
         "13.974052558883258",
         "83.91396747644986",
         "1002.4579200723427",
         "False",
         "True",
         "0",
         "17",
         "23"
        ],
        [
         "44",
         "65",
         "40",
         "13.974052558883258",
         "83.91396747644986",
         "1002.4579200723427",
         "False",
         "True",
         "0",
         "3",
         "36"
        ],
        [
         "45",
         "66",
         "40",
         "13.974052558883258",
         "83.91396747644986",
         "1002.4579200723427",
         "False",
         "True",
         "0",
         "24",
         "16"
        ],
        [
         "46",
         "67",
         "40",
         "13.974052558883258",
         "83.91396747644986",
         "1002.4579200723427",
         "False",
         "True",
         "0",
         "15",
         "25"
        ],
        [
         "47",
         "68",
         "40",
         "13.974052558883258",
         "83.91396747644986",
         "1002.4579200723427",
         "False",
         "True",
         "0",
         "8",
         "32"
        ],
        [
         "48",
         "69",
         "40",
         "13.974052558883258",
         "83.91396747644986",
         "1002.4579200723427",
         "False",
         "True",
         "0",
         "11",
         "29"
        ],
        [
         "49",
         "72",
         "31",
         "13.974052558883258",
         "83.91396747644986",
         "1002.4579200723427",
         "False",
         "True",
         "0",
         "10",
         "21"
        ]
       ],
       "shape": {
        "columns": 10,
        "rows": 298946
       }
      },
      "text/html": [
       "<div>\n",
       "<style scoped>\n",
       "    .dataframe tbody tr th:only-of-type {\n",
       "        vertical-align: middle;\n",
       "    }\n",
       "\n",
       "    .dataframe tbody tr th {\n",
       "        vertical-align: top;\n",
       "    }\n",
       "\n",
       "    .dataframe thead th {\n",
       "        text-align: right;\n",
       "    }\n",
       "</style>\n",
       "<table border=\"1\" class=\"dataframe\">\n",
       "  <thead>\n",
       "    <tr style=\"text-align: right;\">\n",
       "      <th></th>\n",
       "      <th>station_id</th>\n",
       "      <th>capacity</th>\n",
       "      <th>temperature_celsius</th>\n",
       "      <th>relative_humidity_percent</th>\n",
       "      <th>barometric_pressure_hpa</th>\n",
       "      <th>is_holiday</th>\n",
       "      <th>is_weekend</th>\n",
       "      <th>hour</th>\n",
       "      <th>available_bikes</th>\n",
       "      <th>available_docks</th>\n",
       "    </tr>\n",
       "  </thead>\n",
       "  <tbody>\n",
       "    <tr>\n",
       "      <th>0</th>\n",
       "      <td>10</td>\n",
       "      <td>16</td>\n",
       "      <td>13.974053</td>\n",
       "      <td>83.913967</td>\n",
       "      <td>1002.457920</td>\n",
       "      <td>False</td>\n",
       "      <td>True</td>\n",
       "      <td>0</td>\n",
       "      <td>15</td>\n",
       "      <td>1</td>\n",
       "    </tr>\n",
       "    <tr>\n",
       "      <th>1</th>\n",
       "      <td>100</td>\n",
       "      <td>25</td>\n",
       "      <td>13.974053</td>\n",
       "      <td>83.913967</td>\n",
       "      <td>1002.457920</td>\n",
       "      <td>False</td>\n",
       "      <td>True</td>\n",
       "      <td>0</td>\n",
       "      <td>17</td>\n",
       "      <td>8</td>\n",
       "    </tr>\n",
       "    <tr>\n",
       "      <th>2</th>\n",
       "      <td>109</td>\n",
       "      <td>29</td>\n",
       "      <td>13.974053</td>\n",
       "      <td>83.913967</td>\n",
       "      <td>1002.457920</td>\n",
       "      <td>False</td>\n",
       "      <td>True</td>\n",
       "      <td>0</td>\n",
       "      <td>20</td>\n",
       "      <td>9</td>\n",
       "    </tr>\n",
       "    <tr>\n",
       "      <th>3</th>\n",
       "      <td>11</td>\n",
       "      <td>30</td>\n",
       "      <td>13.974053</td>\n",
       "      <td>83.913967</td>\n",
       "      <td>1002.457920</td>\n",
       "      <td>False</td>\n",
       "      <td>True</td>\n",
       "      <td>0</td>\n",
       "      <td>1</td>\n",
       "      <td>29</td>\n",
       "    </tr>\n",
       "    <tr>\n",
       "      <th>4</th>\n",
       "      <td>114</td>\n",
       "      <td>40</td>\n",
       "      <td>13.974053</td>\n",
       "      <td>83.913967</td>\n",
       "      <td>1002.457920</td>\n",
       "      <td>False</td>\n",
       "      <td>True</td>\n",
       "      <td>0</td>\n",
       "      <td>4</td>\n",
       "      <td>36</td>\n",
       "    </tr>\n",
       "    <tr>\n",
       "      <th>...</th>\n",
       "      <td>...</td>\n",
       "      <td>...</td>\n",
       "      <td>...</td>\n",
       "      <td>...</td>\n",
       "      <td>...</td>\n",
       "      <td>...</td>\n",
       "      <td>...</td>\n",
       "      <td>...</td>\n",
       "      <td>...</td>\n",
       "      <td>...</td>\n",
       "    </tr>\n",
       "    <tr>\n",
       "      <th>298941</th>\n",
       "      <td>83</td>\n",
       "      <td>40</td>\n",
       "      <td>7.200671</td>\n",
       "      <td>91.322628</td>\n",
       "      <td>997.117702</td>\n",
       "      <td>False</td>\n",
       "      <td>False</td>\n",
       "      <td>23</td>\n",
       "      <td>33</td>\n",
       "      <td>7</td>\n",
       "    </tr>\n",
       "    <tr>\n",
       "      <th>298942</th>\n",
       "      <td>84</td>\n",
       "      <td>30</td>\n",
       "      <td>7.200671</td>\n",
       "      <td>91.322628</td>\n",
       "      <td>997.117702</td>\n",
       "      <td>False</td>\n",
       "      <td>False</td>\n",
       "      <td>23</td>\n",
       "      <td>23</td>\n",
       "      <td>7</td>\n",
       "    </tr>\n",
       "    <tr>\n",
       "      <th>298943</th>\n",
       "      <td>90</td>\n",
       "      <td>40</td>\n",
       "      <td>7.200671</td>\n",
       "      <td>91.322628</td>\n",
       "      <td>997.117702</td>\n",
       "      <td>False</td>\n",
       "      <td>False</td>\n",
       "      <td>23</td>\n",
       "      <td>2</td>\n",
       "      <td>38</td>\n",
       "    </tr>\n",
       "    <tr>\n",
       "      <th>298944</th>\n",
       "      <td>95</td>\n",
       "      <td>40</td>\n",
       "      <td>7.200671</td>\n",
       "      <td>91.322628</td>\n",
       "      <td>997.117702</td>\n",
       "      <td>False</td>\n",
       "      <td>False</td>\n",
       "      <td>23</td>\n",
       "      <td>25</td>\n",
       "      <td>15</td>\n",
       "    </tr>\n",
       "    <tr>\n",
       "      <th>298945</th>\n",
       "      <td>96</td>\n",
       "      <td>30</td>\n",
       "      <td>7.200671</td>\n",
       "      <td>91.322628</td>\n",
       "      <td>997.117702</td>\n",
       "      <td>False</td>\n",
       "      <td>False</td>\n",
       "      <td>23</td>\n",
       "      <td>18</td>\n",
       "      <td>12</td>\n",
       "    </tr>\n",
       "  </tbody>\n",
       "</table>\n",
       "<p>298946 rows × 10 columns</p>\n",
       "</div>"
      ],
      "text/plain": [
       "        station_id  capacity  temperature_celsius  relative_humidity_percent  \\\n",
       "0               10        16            13.974053                  83.913967   \n",
       "1              100        25            13.974053                  83.913967   \n",
       "2              109        29            13.974053                  83.913967   \n",
       "3               11        30            13.974053                  83.913967   \n",
       "4              114        40            13.974053                  83.913967   \n",
       "...            ...       ...                  ...                        ...   \n",
       "298941          83        40             7.200671                  91.322628   \n",
       "298942          84        30             7.200671                  91.322628   \n",
       "298943          90        40             7.200671                  91.322628   \n",
       "298944          95        40             7.200671                  91.322628   \n",
       "298945          96        30             7.200671                  91.322628   \n",
       "\n",
       "        barometric_pressure_hpa  is_holiday  is_weekend  hour  \\\n",
       "0                   1002.457920       False        True     0   \n",
       "1                   1002.457920       False        True     0   \n",
       "2                   1002.457920       False        True     0   \n",
       "3                   1002.457920       False        True     0   \n",
       "4                   1002.457920       False        True     0   \n",
       "...                         ...         ...         ...   ...   \n",
       "298941               997.117702       False       False    23   \n",
       "298942               997.117702       False       False    23   \n",
       "298943               997.117702       False       False    23   \n",
       "298944               997.117702       False       False    23   \n",
       "298945               997.117702       False       False    23   \n",
       "\n",
       "        available_bikes  available_docks  \n",
       "0                    15                1  \n",
       "1                    17                8  \n",
       "2                    20                9  \n",
       "3                     1               29  \n",
       "4                     4               36  \n",
       "...                 ...              ...  \n",
       "298941               33                7  \n",
       "298942               23                7  \n",
       "298943                2               38  \n",
       "298944               25               15  \n",
       "298945               18               12  \n",
       "\n",
       "[298946 rows x 10 columns]"
      ]
     },
     "execution_count": 4,
     "metadata": {},
     "output_type": "execute_result"
    }
   ],
   "source": [
    "df"
   ]
  },
  {
   "cell_type": "code",
   "execution_count": 5,
   "metadata": {},
   "outputs": [],
   "source": [
    "import matplotlib.pyplot as plt\n",
    "import pandas as pd\n",
    "from sktime.datasets import load_airline\n",
    "from sktime.forecasting.base import ForecastingHorizon\n",
    "from sktime.forecasting.model_selection import temporal_train_test_split\n",
    "from sktime.forecasting.ets import AutoETS\n",
    "from sktime.performance_metrics.forecasting import mean_absolute_percentage_error\n",
    "\n",
    "# Load dataset\n",
    "y = load_airline()"
   ]
  },
  {
   "cell_type": "code",
   "execution_count": 6,
   "metadata": {},
   "outputs": [
    {
     "data": {
      "text/plain": [
       "PeriodIndex(['1949-01', '1949-02', '1949-03', '1949-04', '1949-05', '1949-06',\n",
       "             '1949-07', '1949-08', '1949-09', '1949-10',\n",
       "             ...\n",
       "             '1960-03', '1960-04', '1960-05', '1960-06', '1960-07', '1960-08',\n",
       "             '1960-09', '1960-10', '1960-11', '1960-12'],\n",
       "            dtype='period[M]', name='Period', length=144)"
      ]
     },
     "execution_count": 6,
     "metadata": {},
     "output_type": "execute_result"
    }
   ],
   "source": [
    "y.index"
   ]
  },
  {
   "cell_type": "code",
   "execution_count": 9,
   "metadata": {},
   "outputs": [
    {
     "data": {
      "text/plain": [
       "pandas.core.series.Series"
      ]
     },
     "execution_count": 9,
     "metadata": {},
     "output_type": "execute_result"
    }
   ],
   "source": [
    "type(y)"
   ]
  },
  {
   "cell_type": "code",
   "execution_count": 10,
   "metadata": {},
   "outputs": [
    {
     "data": {
      "text/plain": [
       "pandas.core.frame.DataFrame"
      ]
     },
     "execution_count": 10,
     "metadata": {},
     "output_type": "execute_result"
    }
   ],
   "source": [
    "type(df)"
   ]
  },
  {
   "cell_type": "code",
   "execution_count": 12,
   "metadata": {},
   "outputs": [
    {
     "data": {
      "text/plain": [
       "pandas.core.frame.DataFrame"
      ]
     },
     "execution_count": 12,
     "metadata": {},
     "output_type": "execute_result"
    }
   ],
   "source": [
    "data = pd.read_csv(\"final_merged_data.csv\")\n",
    "type(data)"
   ]
  },
  {
   "cell_type": "code",
   "execution_count": 14,
   "metadata": {},
   "outputs": [
    {
     "data": {
      "text/plain": [
       "Index(['last_reported', 'station_id', 'num_bikes_available',\n",
       "       'num_docks_available', 'is_installed', 'is_renting', 'is_returning',\n",
       "       'name', 'address', 'lat', 'lon', 'capacity', 'stno', 'year', 'month',\n",
       "       'day', 'hour', 'minute', 'max_air_temp_quality_indicator',\n",
       "       'max_air_temperature_celsius', 'min_air_temp_quality_indicator',\n",
       "       'min_air_temperature_celsius', 'air_temp_std_quality_indicator',\n",
       "       'air_temperature_std_deviation', 'max_grass_temp_quality_indicator',\n",
       "       'max_grass_temperature_celsius', 'min_grass_temp_quality_indicator',\n",
       "       'min_grass_temperature_celsius', 'grass_temp_std_quality_indicator',\n",
       "       'grass_temperature_std_deviation',\n",
       "       'max_soil_temp_5cm_quality_indicator',\n",
       "       'max_soil_temperature_5cm_celsius',\n",
       "       'min_soil_temp_5cm_quality_indicator',\n",
       "       'min_soil_temperature_5cm_celsius',\n",
       "       'soil_temp_std_5cm_quality_indicator',\n",
       "       'soil_temperature_std_deviation_5cm',\n",
       "       'max_soil_temp_10cm_quality_indicator',\n",
       "       'max_soil_temperature_10cm_celsius',\n",
       "       'min_soil_temp_10cm_quality_indicator',\n",
       "       'min_soil_temperature_10cm_celsius',\n",
       "       'soil_temp_std_10cm_quality_indicator',\n",
       "       'soil_temperature_std_deviation_10cm',\n",
       "       'max_soil_temp_20cm_quality_indicator',\n",
       "       'max_soil_temperature_20cm_celsius',\n",
       "       'min_soil_temp_20cm_quality_indicator',\n",
       "       'min_soil_temperature_20cm_celsius',\n",
       "       'soil_temp_std_20cm_quality_indicator',\n",
       "       'soil_temperature_std_deviation_20cm',\n",
       "       'max_earth_temp_30cm_quality_indicator',\n",
       "       'max_earth_temperature_30cm_celsius',\n",
       "       'min_earth_temp_30cm_quality_indicator',\n",
       "       'min_earth_temperature_30cm_celsius',\n",
       "       'earth_temp_std_30cm_quality_indicator',\n",
       "       'earth_temperature_std_deviation_30cm',\n",
       "       'max_earth_temp_50cm_quality_indicator',\n",
       "       'max_earth_temperature_50cm_celsius',\n",
       "       'min_earth_temp_50cm_quality_indicator',\n",
       "       'min_earth_temperature_50cm_celsius',\n",
       "       'earth_temp_std_50cm_quality_indicator',\n",
       "       'earth_temperature_std_deviation_50cm',\n",
       "       'max_earth_temp_100cm_quality_indicator',\n",
       "       'max_earth_temperature_100cm_celsius',\n",
       "       'min_earth_temp_100cm_quality_indicator',\n",
       "       'min_earth_temperature_100cm_celsius',\n",
       "       'earth_temp_std_100cm_quality_indicator',\n",
       "       'earth_temperature_std_deviation_100cm',\n",
       "       'max_humidity_quality_indicator', 'max_relative_humidity_percent',\n",
       "       'min_humidity_quality_indicator', 'min_relative_humidity_percent',\n",
       "       'humidity_std_quality_indicator', 'relative_humidity_std_deviation',\n",
       "       'max_pressure_quality_indicator', 'max_barometric_pressure_hpa',\n",
       "       'min_pressure_quality_indicator', 'min_barometric_pressure_hpa',\n",
       "       'pressure_std_quality_indicator', 'barometric_pressure_std_deviation'],\n",
       "      dtype='object')"
      ]
     },
     "execution_count": 14,
     "metadata": {},
     "output_type": "execute_result"
    }
   ],
   "source": [
    "data.columns"
   ]
  },
  {
   "cell_type": "code",
   "execution_count": 17,
   "metadata": {},
   "outputs": [
    {
     "data": {
      "text/plain": [
       "np.True_"
      ]
     },
     "execution_count": 17,
     "metadata": {},
     "output_type": "execute_result"
    }
   ],
   "source": [
    "(data['month'] == 12).all()"
   ]
  },
  {
   "cell_type": "code",
   "execution_count": 45,
   "metadata": {},
   "outputs": [
    {
     "data": {
      "text/plain": [
       "np.True_"
      ]
     },
     "execution_count": 45,
     "metadata": {},
     "output_type": "execute_result"
    }
   ],
   "source": [
    "(data[data['day'] == 1]['hour']==1).any()"
   ]
  },
  {
   "cell_type": "code",
   "execution_count": 48,
   "metadata": {},
   "outputs": [],
   "source": [
    "data = pd.read_csv('final_merged_data.csv', parse_dates=True, index_col='last_reported')"
   ]
  },
  {
   "cell_type": "code",
   "execution_count": 55,
   "metadata": {},
   "outputs": [
    {
     "data": {
      "text/plain": [
       "DatetimeIndex(['2024-12-01 00:10:00', '2024-12-01 00:10:00',\n",
       "               '2024-12-01 00:10:00', '2024-12-01 00:10:00',\n",
       "               '2024-12-01 00:10:00', '2024-12-01 00:10:00',\n",
       "               '2024-12-01 00:10:00', '2024-12-01 00:10:00',\n",
       "               '2024-12-01 00:10:00', '2024-12-01 00:10:00',\n",
       "               ...\n",
       "               '2024-12-31 23:50:00', '2024-12-31 23:50:00',\n",
       "               '2024-12-31 23:50:00', '2024-12-31 23:50:00',\n",
       "               '2024-12-31 23:50:00', '2024-12-31 23:50:00',\n",
       "               '2024-12-31 23:50:00', '2024-12-31 23:50:00',\n",
       "               '2024-12-31 23:50:00', '2024-12-31 23:50:00'],\n",
       "              dtype='datetime64[ns]', name='last_reported', length=298946, freq=None)"
      ]
     },
     "execution_count": 55,
     "metadata": {},
     "output_type": "execute_result"
    }
   ],
   "source": [
    "data.index"
   ]
  },
  {
   "cell_type": "markdown",
   "metadata": {},
   "source": [
    "I have a dataset for December with every days' data containg every hours' data containg several minutes' data\n",
    "how do you think I should handle it to predict one day's future data hourly?"
   ]
  },
  {
   "cell_type": "code",
   "execution_count": 7,
   "metadata": {},
   "outputs": [
    {
     "data": {
      "image/png": "[encoded data removed]",
      "text/plain": [
       "<Figure size 1000x600 with 1 Axes>"
      ]
     },
     "metadata": {},
     "output_type": "display_data"
    }
   ],
   "source": [
    "# Ensure the index has a frequency\n",
    "y.index = pd.PeriodIndex(y.index, freq=\"M\")  # Convert index to PeriodIndex with monthly frequency\n",
    "\n",
    "# Split data into train and test sets (last 36 months as test)\n",
    "y_train, y_test = temporal_train_test_split(y, test_size=36)\n",
    "\n",
    "# Initialize and fit AutoETS forecaster with automatic model selection\n",
    "forecaster = AutoETS(auto=True, sp=12, n_jobs=-1)\n",
    "forecaster.fit(y_train)\n",
    "\n",
    "# Create forecasting horizon using test set indices\n",
    "fh = ForecastingHorizon(y_test.index, is_relative=False)\n",
    "\n",
    "# Generate forecasts\n",
    "y_pred = forecaster.predict(fh)\n",
    "\n",
    "# Calculate evaluation metric\n",
    "mape = mean_absolute_percentage_error(y_test, y_pred)\n",
    "\n",
    "# **Ensure indices are converted to DatetimeIndex for plotting**\n",
    "y_train.index = y_train.index.to_timestamp()\n",
    "y_test.index = y_test.index.to_timestamp()\n",
    "y_pred.index = y_pred.index.to_timestamp()\n",
    "\n",
    "# Plot results\n",
    "plt.figure(figsize=(10, 6))\n",
    "plt.plot(y_train.index, y_train, label='Training Data', color='blue')\n",
    "plt.plot(y_test.index, y_test, label='Actual Values', color='green')\n",
    "plt.plot(y_test.index, y_pred, label='Forecast', color='red')\n",
    "plt.title(f'Airline Passengers Forecast (MAPE: {mape:.2%})')\n",
    "plt.xlabel('Year')\n",
    "plt.ylabel('Passengers')\n",
    "plt.legend()\n",
    "plt.grid(True)\n",
    "plt.show()"
   ]
  }
 ],
 "metadata": {
  "kernelspec": {
   "display_name": "comp30830",
   "language": "python",
   "name": "python3"
  },
  "language_info": {
   "codemirror_mode": {
    "name": "ipython",
    "version": 3
   },
   "file_extension": ".py",
   "mimetype": "text/x-python",
   "name": "python",
   "nbconvert_exporter": "python",
   "pygments_lexer": "ipython3",
   "version": "3.13.1"
  }
 },
 "nbformat": 4,
 "nbformat_minor": 2
}
